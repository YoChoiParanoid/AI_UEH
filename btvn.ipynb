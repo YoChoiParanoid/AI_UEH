{
 "cells": [
  {
   "cell_type": "markdown",
   "metadata": {},
   "source": [
    "### Class ArrayProcessor combine three method:\n",
    "- binarysearch\n",
    "\n",
    "- Search longest sub-number\n",
    "\n",
    "- Insertion sort"
   ]
  },
  {
   "cell_type": "code",
   "execution_count": 6,
   "metadata": {},
   "outputs": [],
   "source": [
    "class ArrayProcessor:\n",
    "    def __init__(self, nums):\n",
    "        self.nums = nums\n",
    "\n",
    "    def insertion_sort(self):\n",
    "        for i in range(1, len(self.nums)):\n",
    "            temp = self.nums[i]\n",
    "            j = i\n",
    "            while j > 0 and temp < self.nums[j - 1]:\n",
    "                self.nums[j] = self.nums[j - 1]\n",
    "                j -= 1\n",
    "            self.nums[j] = temp\n",
    "\n",
    "    def longest_non_decreasing_subarray(self):\n",
    "        i = 0\n",
    "        j = i + 1\n",
    "        max_count = 0\n",
    "        count = 1\n",
    "        index = (0, 0)\n",
    "\n",
    "        while j < len(self.nums):\n",
    "            if self.nums[j] >= self.nums[j - 1]:\n",
    "                count += 1\n",
    "                j += 1\n",
    "                if max_count < count:\n",
    "                    max_count = count\n",
    "                    index = (i, j - 1)\n",
    "            else:\n",
    "                count = 1\n",
    "                i = j\n",
    "                j = i + 1\n",
    "\n",
    "        return self.nums[index[0]: index[1] + 1]\n",
    "\n",
    "    def binary_search(self, target):\n",
    "        left, right = 0, len(self.nums) - 1\n",
    "        while left <= right:\n",
    "            mid = (left + right) // 2\n",
    "            if self.nums[mid] == target:\n",
    "                return mid\n",
    "            elif self.nums[mid] < target:\n",
    "                left = mid + 1\n",
    "            else:\n",
    "                right = mid - 1\n",
    "        return -1  # Trả về -1 nếu không tìm thấy\n"
   ]
  },
  {
   "cell_type": "code",
   "execution_count": 7,
   "metadata": {},
   "outputs": [
    {
     "name": "stdout",
     "output_type": "stream",
     "text": [
      "Longest non-decreasing subarray: [2, 4, 6, 8, 9, 10]\n",
      "Sorted array: [1, 2, 2, 2, 3, 4, 4, 5, 6, 8, 9, 10]\n",
      "Binary search result for 5: Index 7\n"
     ]
    }
   ],
   "source": [
    "# Test\n",
    "nums = [1, 2, 3, 4, 2, 4, 6, 8, 9, 10, 2, 5]\n",
    "processor = ArrayProcessor(nums)\n",
    "\n",
    "# Tìm dãy con không giảm dài nhất\n",
    "print(\"Longest non-decreasing subarray:\", processor.longest_non_decreasing_subarray())\n",
    "\n",
    "# Sắp xếp mảng\n",
    "processor.insertion_sort()\n",
    "print(\"Sorted array:\", processor.nums)\n",
    "\n",
    "# Tìm kiếm nhị phân\n",
    "target = 5\n",
    "index = processor.binary_search(target)\n",
    "print(f\"Binary search result for {target}: Index {index}\" if index != -1 else f\"{target} not found\")"
   ]
  }
 ],
 "metadata": {
  "kernelspec": {
   "display_name": "Python 3",
   "language": "python",
   "name": "python3"
  },
  "language_info": {
   "codemirror_mode": {
    "name": "ipython",
    "version": 3
   },
   "file_extension": ".py",
   "mimetype": "text/x-python",
   "name": "python",
   "nbconvert_exporter": "python",
   "pygments_lexer": "ipython3",
   "version": "3.12.1"
  }
 },
 "nbformat": 4,
 "nbformat_minor": 2
}
