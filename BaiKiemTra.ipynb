{
  "nbformat": 4,
  "nbformat_minor": 0,
  "metadata": {
    "colab": {
      "provenance": []
    },
    "kernelspec": {
      "name": "python3",
      "display_name": "Python 3"
    },
    "language_info": {
      "name": "python"
    }
  },
  "cells": [
    {
      "cell_type": "markdown",
      "source": [
        "Nguyễn Hoài Phú - 31221024738\n",
        "\n",
        "Số máy 02\n",
        "\n",
        "29092004"
      ],
      "metadata": {
        "id": "jTDJ_k6wWOV5"
      }
    },
    {
      "cell_type": "markdown",
      "source": [
        "# CHO BÀN CỜ KÍCH THƯỚC 5×5. HÃY SỬ DỤNG THƯ VIỆN SIMPLEAI ĐỂ TÌM RA MỘT PHƯƠNG ÁN XẾP 5 QUÂN HẬU VÀO BÀN CỜ NÓI TRÊN ĐỂ KHÔNG CÓ CẶP HẬU NÀO ĂN NHAU[*] , BẰNG:\n",
        "\n",
        "[*] Một cặp quân hậu sẽ ăn nhau nếu nằm trên đường thẳng (ngang hoặc dọc) hoặc\n",
        "đường chéo (chính hoặc phụ).\n"
      ],
      "metadata": {
        "id": "wgCCZVJBiJi7"
      }
    },
    {
      "cell_type": "markdown",
      "source": [
        "### Câu 1: XÂY DỰNG BÀI TOÁN TÌM KIẾM VÀ SỬ DỤNG THUẬT TOÁN GENETIC ALGORITHM ĐỂ GIẢI."
      ],
      "metadata": {
        "id": "s7t70-1Ph71i"
      }
    },
    {
      "cell_type": "code",
      "source": [
        "from simpleai.search import SearchProblem, genetic\n",
        "import random\n",
        "\n",
        "class NQueensProblem(SearchProblem): # Kế thừa SearchProblem\n",
        "    def __init__(self, N=5):\n",
        "        super(NQueensProblem, self).__init__()\n",
        "\n",
        "        # Bàn cờ 5x5\n",
        "        self.N = N\n",
        "\n",
        "        # Khởi tạo vị trí ngẫu nhiên cho các quân cờ\n",
        "        self.initial_state = tuple([random.randint(0, N-1) for _ in range(N)])\n",
        "\n",
        "    # Tạo trạng thái ngẫu nhiên cho quá trình tạo thế hệ ban đầu của GA Algorithm\n",
        "    def generate_random_state(self):\n",
        "        \"\"\"Một danh sách N số nguyên, mỗi số từ 0 đến N-1.\"\"\"\n",
        "        return tuple([random.randint(0, self.N-1) for _ in range(self.N)])\n",
        "\n",
        "    # Hàm lai ghép: Phần đầu của state1, đuôi của state2\n",
        "    def crossover(self, state1, state2):\n",
        "        \"\"\"Chọn một điểm cắt ngẫu nhiên và kết hợp hai trạng thái.\"\"\"\n",
        "        cut_point = random.randint(1, self.N-1)\n",
        "        child = list(state1[:cut_point]) + list(state2[cut_point:])\n",
        "        return tuple(child)\n",
        "\n",
        "    # Đột biến để sinh ra cá thể mới\n",
        "    def mutate(self, state):\n",
        "        \"\"\"Thay đổi ngẫu nhiên một vị trí trong trạng thái.\"\"\"\n",
        "        state = list(state)\n",
        "        pos = random.randint(0, self.N-1)\n",
        "        state[pos] = random.randint(0, self.N-1)\n",
        "        return tuple(state)\n",
        "\n",
        "    # Hàm đánh giá độ phù hợp (fitness)\n",
        "    def value(self, state):\n",
        "        \"\"\"Số cặp hậu không ăn nhau.\"\"\"\n",
        "        non_attacking_pairs = 0\n",
        "        for i in range(self.N):\n",
        "            for j in range(i + 1, self.N):\n",
        "                # Kiểm tra cùng hàng\n",
        "                if state[i] != state[j]:\n",
        "                    # Kiểm tra cùng đường chéo\n",
        "                    if abs(state[i] - state[j]) != abs(i - j):\n",
        "                        non_attacking_pairs += 1\n",
        "        return non_attacking_pairs\n",
        "\n",
        "def print_board(state, N=5):\n",
        "    \"\"\"In bàn cờ với các quân hậu.\"\"\"\n",
        "    board = [['.' for _ in range(N)] for _ in range(N)]\n",
        "    for col, row in enumerate(state):\n",
        "        board[row][col] = 'Q'\n",
        "    for row in board:\n",
        "        print(' '.join(row))\n",
        "\n",
        "def main():\n",
        "    problem = NQueensProblem(N=5)\n",
        "\n",
        "    # Chạy giải thuật di truyền\n",
        "    result = genetic(problem, population_size=100, mutation_chance=0.1, iterations_limit=1000)\n",
        "\n",
        "    print(\"Trạng thái cuối cùng:\", result.state)\n",
        "    print(\"Độ phù hợp:\", result.value)\n",
        "    print(\"Bàn cờ:\")\n",
        "    print_board(result.state)\n",
        "\n",
        "    # Kiểm tra lời giải\n",
        "    max_pairs = (5 * (5 - 1)) // 2  # Số cặp hậu tối đa: C(5,2) = 10\n",
        "    if result.value == max_pairs:\n",
        "        print(\"Lời giải hợp lệ: Không có cặp hậu nào ăn nhau.\")\n",
        "    else:\n",
        "        # Có trường hợp nào đó 2 cặp hậu ăn nhau\n",
        "        print(\"Lời giải không hợp lệ: Có cặp hậu ăn nhau.\")\n",
        "\n",
        "if __name__ == \"__main__\":\n",
        "    main()"
      ],
      "metadata": {
        "colab": {
          "base_uri": "https://localhost:8080/"
        },
        "id": "VtJJ3yTmWdJ2",
        "outputId": "ce023acf-27a3-402c-979a-eebf3fee8dac"
      },
      "execution_count": null,
      "outputs": [
        {
          "output_type": "stream",
          "name": "stdout",
          "text": [
            "Trạng thái cuối cùng: (3, 0, 2, 4, 1)\n",
            "Độ phù hợp: 10\n",
            "Bàn cờ:\n",
            ". Q . . .\n",
            ". . . . Q\n",
            ". . Q . .\n",
            "Q . . . .\n",
            ". . . Q .\n",
            "Lời giải hợp lệ: Không có cặp hậu nào ăn nhau.\n"
          ]
        }
      ]
    },
    {
      "cell_type": "markdown",
      "source": [
        "### Câu 2: HÌNH THÀNH BÀI TOÁN DƯỚI DẠNG BÀI TOÁN CÓ RÀNG BUỘC CSP VÀ SỬ DỤNG THUẬT TOÁN BACKTRACK ĐỂ GIẢI."
      ],
      "metadata": {
        "id": "ImhIjUfMiBX0"
      }
    },
    {
      "cell_type": "code",
      "source": [
        "from simpleai.search import CspProblem, backtrack\n",
        "import itertools\n",
        "\n",
        "def constraint_different_rows_and_no_diagonal(vars_tuple, values_tuple):\n",
        "    \"\"\"Ràng buộc: hai quân hậu không cùng hàng và không trên cùng đường chéo.\"\"\"\n",
        "    col1, col2 = vars_tuple  # Các cột (C0, C1, ...)\n",
        "    row1, row2 = values_tuple  # Các hàng tương ứng\n",
        "    col_diff = abs(col1 - col2)\n",
        "    row_diff = abs(row1 - row2)\n",
        "    # Không cùng hàng (row1 != row2) và không trên đường chéo (row_diff != col_diff)\n",
        "    return row1 != row2 and row_diff != col_diff\n",
        "\n",
        "def print_board(solution, N=5):\n",
        "    \"\"\"In bàn cờ với các quân hậu.\"\"\"\n",
        "    board = [['.' for _ in range(N)] for _ in range(N)]\n",
        "    for col, row in solution.items():\n",
        "        board[row][col] = 'Q'\n",
        "    for row in board:\n",
        "        print(' '.join(row))\n",
        "\n",
        "def main():\n",
        "    # Định nghĩa bài toán CSP\n",
        "    N = 5\n",
        "\n",
        "    # Các biến: C0, C1, C2, C3, C4 (các cột)\n",
        "    variables = [0, 1, 2, 3, 4]\n",
        "\n",
        "    # Miền giá trị cho mỗi biến: các hàng 0, 1, 2, 3, 4\n",
        "    domains = {var: list(range(N)) for var in variables}\n",
        "\n",
        "    # Ràng buộc: tất cả các cặp biến phải thỏa mãn ràng buộc về hàng và đường chéo\n",
        "    constraints = []\n",
        "    for var1, var2 in itertools.combinations(variables, 2):\n",
        "        constraints.append(((var1, var2), constraint_different_rows_and_no_diagonal))\n",
        "\n",
        "    # Tạo bài toán CSP\n",
        "    problem = CspProblem(variables, domains, constraints)\n",
        "\n",
        "    # Giải bài toán bằng Backtracking\n",
        "    solution = backtrack(problem)\n",
        "\n",
        "    if solution:\n",
        "        print(\"Lời giải:\", solution)\n",
        "        print(\"Bàn cờ:\")\n",
        "        print_board(solution)\n",
        "    else:\n",
        "        print(\"Không tìm được lời giải.\")\n",
        "\n",
        "if __name__ == \"__main__\":\n",
        "    main()"
      ],
      "metadata": {
        "colab": {
          "base_uri": "https://localhost:8080/"
        },
        "id": "c-km_c-lhSYv",
        "outputId": "3fbc2da7-7ef8-4a64-83c3-8f49a485fe76"
      },
      "execution_count": null,
      "outputs": [
        {
          "output_type": "stream",
          "name": "stdout",
          "text": [
            "Lời giải: {0: 0, 1: 2, 2: 4, 3: 1, 4: 3}\n",
            "Bàn cờ:\n",
            "Q . . . .\n",
            ". . . Q .\n",
            ". Q . . .\n",
            ". . . . Q\n",
            ". . Q . .\n"
          ]
        }
      ]
    }
  ]
}